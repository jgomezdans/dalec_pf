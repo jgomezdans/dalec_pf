{
 "cells": [
  {
   "cell_type": "markdown",
   "metadata": {
    "nbpresent": {
     "id": "9363186e-7292-46fa-b9b9-ab7233a0d2ee"
    },
    "slideshow": {
     "slide_type": "slide"
    }
   },
   "source": [
    "# Assimilating EO data into an ecosystem model with a particle filter "
   ]
  },
  {
   "cell_type": "markdown",
   "metadata": {
    "nbpresent": {
     "id": "e9923300-1d60-4b9a-98f5-441363bc8216"
    },
    "slideshow": {
     "slide_type": "slide"
    }
   },
   "source": [
    "* The aim of today's practical is to explore the blending of **observations** and **models**\n",
    "* You will use the **DALEC ecosystem model**, that tracks the fate of C through photosynthesis, biomass allocation and decomposition.\n",
    "* We will use **observations of LAI** from space-borne sensors to keep the model in track\n",
    "* The observations will be combined with the model using a type of **particle filter** (a **sequential Metropolis-Hastings filter**)\n",
    "* We will focus on the Metolius Young Pine FLUXNET site, and will compare assimilation results to flux tower data.\n"
   ]
  },
  {
   "cell_type": "markdown",
   "metadata": {
    "nbpresent": {
     "id": "dfa52bce-5f45-4cd7-97b1-6a9f335a846a"
    },
    "slideshow": {
     "slide_type": "slide"
    }
   },
   "source": [
    "## The DALEC model\n",
    "The DALEC model is a simple box model of C cycling.\n",
    "![DALEC](http://ars.els-cdn.com/content/image/1-s2.0-S0034425707003276-gr2.jpg)"
   ]
  },
  {
   "cell_type": "markdown",
   "metadata": {
    "nbpresent": {
     "id": "749f2688-434c-4dba-926a-0a75b7c2fa9e"
    },
    "slideshow": {
     "slide_type": "slide"
    }
   },
   "source": [
    "1. Carbon is acquired through the GPP box, which uses the very simple ACM model to model photosynthesis as a function of $LAI$, and temperature, incoming radiation, $CO_2$ concentration and VPD.\n",
    "2. Part of the GPP is lost as **autototrophic respiration**, to get NPP.\n",
    "3. The NPP is allocated to the **foliar**, **woody** and **roots** pools.\n",
    "4. The foliar and root pools loose C to the **litter** pool.\n",
    "5. The woody biomass pool looses C to the **SOM/Woody debris** pool.\n",
    "6. The litter pool decomposes into the **SOM** pool\n",
    "7. Both **litter** and **SOM** pools release C back to the atmopshere through microbial activity and **heterotrophic respiration**"
   ]
  },
  {
   "cell_type": "markdown",
   "metadata": {
    "nbpresent": {
     "id": "e7484ffc-4770-4bad-af58-23a2206602b6"
    },
    "slideshow": {
     "slide_type": "slide"
    }
   },
   "source": [
    "* The DALEC model has been calibrated for the Metolius site\n",
    "* We have a fairly rough understanding of the different C pools at around 2000.\n",
    "* However, the DALEC model is **very simplistic**!!! \n",
    "* The idea is that this simple model can be made to track observations, and hence combine heterogeneous observational streams into a consistent story of what's happening to C."
   ]
  },
  {
   "cell_type": "markdown",
   "metadata": {
    "nbpresent": {
     "id": "f1459bcd-1fac-4d48-99e8-c92973cf78bf"
    },
    "slideshow": {
     "slide_type": "slide"
    }
   },
   "source": [
    "## The MODIS observations"
   ]
  },
  {
   "cell_type": "markdown",
   "metadata": {
    "nbpresent": {
     "id": "88ebb92f-326a-4e88-9e16-5c9bf3bc2d39"
    },
    "slideshow": {
     "slide_type": "slide"
    }
   },
   "source": [
    "* We will use the MODIS LAI product, which provides both an estimate of LAI and of uncertainty in LAI.\n",
    "* This product takes the **red** and **nir** reflectance, and maps them to LAI.\n",
    "* The uncertainty of the LAI product is controlled by things like cloudiness, snow, etc."
   ]
  },
  {
   "cell_type": "code",
   "execution_count": 1,
   "metadata": {
    "ExecuteTime": {
     "end_time": "2018-03-23T10:48:13.067257Z",
     "start_time": "2018-03-23T10:48:11.532151Z"
    },
    "nbpresent": {
     "id": "b6c95724-8651-4e73-bddb-ea78264de730"
    }
   },
   "outputs": [
    {
     "data": {
      "text/plain": [
       "Text(0,0.5,'LAI $m^2m^{-2}$')"
      ]
     },
     "execution_count": 1,
     "metadata": {},
     "output_type": "execute_result"
    },
    {
     "data": {
      "image/png": "[encoded data removed]",
      "text/plain": [
       "<matplotlib.figure.Figure at 0x7ff765b33a90>"
      ]
     },
     "metadata": {},
     "output_type": "display_data"
    }
   ],
   "source": [
    "import numpy as np\n",
    "import matplotlib.pyplot as plt\n",
    "%matplotlib inline\n",
    "d=np.loadtxt(\"data/Metolius_MOD15_LAI.txt\")\n",
    "plt.figure(figsize=(10,10))\n",
    "x = np.arange( 166 )\n",
    "plt.plot ( x, d[:, 2], 'o' )\n",
    "plt.vlines ( x, d[:, 2] - d[:, 3], d[:, 2] + d[:, 3] )\n",
    "plt.xlabel(\"Observation time[-]\")\n",
    "plt.ylabel(r'LAI $m^2m^{-2}$')"
   ]
  },
  {
   "cell_type": "markdown",
   "metadata": {
    "nbpresent": {
     "id": "2600177b-24b4-429e-96fb-b173c84aaa6d"
    },
    "slideshow": {
     "slide_type": "slide"
    }
   },
   "source": [
    "## Data assimilation as Bayesian update\n",
    "\n",
    "* Carbon pools are parameterised by a PDF\n",
    "* Spread of the PDF defines our belief where the true value of the pool lies\n",
    "    * This is inherently Bayesian approach!\n",
    "* We start with a rough estimate of the pool sizes...\n",
    "* We *update* the pool sizes conditioned on observations of LAI\n",
    "* This new estimate is now used as **the prior** for the next step\n",
    "* The DALEC model is used to **propagate** the state from one time step to the next\n",
    "    * We assume the DALEC model is wrong, so propagation implies noise inflation"
   ]
  },
  {
   "cell_type": "markdown",
   "metadata": {
    "nbpresent": {
     "id": "4f3d587f-41e3-4bc6-a751-20b002d6529a"
    },
    "slideshow": {
     "slide_type": "slide"
    }
   },
   "source": [
    "## The particle filter\n",
    "\n",
    "* We will use the Dowd 2007 **sequential MH PF**\n",
    "* The model of our dynamic system is given by \n",
    "\n",
    "\\begin{split}\n",
    "    \\mathbf{x}_{k+1} &= \\mathcal{M}(\\mathbf{x}_{k},I) + \\nu\\\\\n",
    "    \\mathbf{y}_{k+1} &=\\mathcal{H}(\\mathbf{x}_{k+1},S) + \\eta,\n",
    "\\end{split}\n",
    "\n",
    "* The first equation encodes the forward propagation of the state in time using the model\n",
    "* The second couples the state with the observations\n",
    "* We will couple the foliar C pool $C_f$ with observed LAI from MODIS, noting that they are related by the SLA (assumed known)."
   ]
  },
  {
   "cell_type": "markdown",
   "metadata": {
    "nbpresent": {
     "id": "a832bf6f-1524-4f84-ab5e-e53b68cab9d1"
    },
    "slideshow": {
     "slide_type": "slide"
    }
   },
   "source": [
    "\n",
    "* The filter propagates a number of *particles* that determine the state using the model, and addss a random forcing\n",
    "* **If** an observation is available, then particles which are able to better explain the observation (i.e., where the foliar C pool scaled by SLA is close to the observed LAI) will tend to dominate, whereas particles that are far from the LAI observation will tend to be rejected.\n",
    "* After a few iterations, the trajectory ought to start tracking the observations.\n",
    "\n",
    "![pf trajectory](http://jgomezdans.github.io/dalec_pf/pf_trajectories.png)"
   ]
  },
  {
   "cell_type": "code",
   "execution_count": null,
   "metadata": {
    "collapsed": true,
    "nbpresent": {
     "id": "7a19668d-5e0e-4838-bac7-4e42dd017c46"
    }
   },
   "outputs": [],
   "source": []
  }
 ],
 "metadata": {
  "celltoolbar": "Slideshow",
  "kernelspec": {
   "display_name": "Python 3",
   "language": "python",
   "name": "python3"
  },
  "latex_envs": {
   "LaTeX_envs_menu_present": true,
   "autocomplete": true,
   "bibliofile": "biblio.bib",
   "cite_by": "apalike",
   "current_citInitial": 1,
   "eqLabelWithNumbers": true,
   "eqNumInitial": 1,
   "hotkeys": {
    "equation": "Ctrl-E",
    "itemize": "Ctrl-I"
   },
   "labels_anchors": false,
   "latex_user_defs": false,
   "report_style_numbering": false,
   "user_envs_cfg": false
  },
  "nbpresent": {
   "slides": {
    "023a064c-30fe-487e-a964-49193a36edc5": {
     "id": "023a064c-30fe-487e-a964-49193a36edc5",
     "prev": null,
     "regions": {
      "4fc23a2e-7301-400b-b048-d79b08fd4932": {
       "attrs": {
        "height": 0.8,
        "width": 0.8,
        "x": 0.1,
        "y": 0.1
       },
       "content": {
        "cell": "9363186e-7292-46fa-b9b9-ab7233a0d2ee",
        "part": "whole"
       },
       "id": "4fc23a2e-7301-400b-b048-d79b08fd4932"
      }
     }
    },
    "070591dc-eb39-470b-aee1-722e83352bf2": {
     "id": "070591dc-eb39-470b-aee1-722e83352bf2",
     "prev": "3bb3eff1-8081-4347-b490-14da7e168882",
     "regions": {
      "7c94a893-83b2-4ce4-bd36-0fe221d46836": {
       "attrs": {
        "height": 0.8,
        "width": 0.8,
        "x": 0.1,
        "y": 0.1
       },
       "content": {
        "cell": "dfa52bce-5f45-4cd7-97b1-6a9f335a846a",
        "part": "whole"
       },
       "id": "7c94a893-83b2-4ce4-bd36-0fe221d46836"
      }
     }
    },
    "0863736b-15d4-487e-a2b7-2512d4b9f82c": {
     "id": "0863736b-15d4-487e-a2b7-2512d4b9f82c",
     "prev": "88f4b6ec-121a-4810-a6b3-c8773635398f",
     "regions": {
      "6c8dc0ae-b785-4068-8ef6-acdd4441e4ac": {
       "attrs": {
        "height": 0.8,
        "width": 0.8,
        "x": 0.1,
        "y": 0.1
       },
       "content": {
        "cell": "749f2688-434c-4dba-926a-0a75b7c2fa9e",
        "part": "whole"
       },
       "id": "6c8dc0ae-b785-4068-8ef6-acdd4441e4ac"
      }
     }
    },
    "2042f4ce-8198-4be0-be71-4a4308641ba3": {
     "id": "2042f4ce-8198-4be0-be71-4a4308641ba3",
     "prev": "cf0e8db1-d407-49d9-a857-7738f957a9a9",
     "regions": {
      "7c590b5b-c851-484f-826a-2a22c37dde87": {
       "attrs": {
        "height": 0.8,
        "width": 0.8,
        "x": 0.1,
        "y": 0.1
       },
       "content": {
        "cell": "4f3d587f-41e3-4bc6-a751-20b002d6529a",
        "part": "whole"
       },
       "id": "7c590b5b-c851-484f-826a-2a22c37dde87"
      }
     }
    },
    "23c96bc3-a828-4777-871c-6d0a991e1c45": {
     "id": "23c96bc3-a828-4777-871c-6d0a991e1c45",
     "prev": "070591dc-eb39-470b-aee1-722e83352bf2",
     "regions": {
      "2159a7a9-40ee-4027-9f43-b531fbf2d323": {
       "attrs": {
        "height": 0.8,
        "width": 0.8,
        "x": 0.1,
        "y": 0.1
       },
       "content": {
        "cell": "749f2688-434c-4dba-926a-0a75b7c2fa9e",
        "part": "whole"
       },
       "id": "2159a7a9-40ee-4027-9f43-b531fbf2d323"
      }
     }
    },
    "37c6c2df-049f-4b8f-92a2-10c7d98db1fd": {
     "id": "37c6c2df-049f-4b8f-92a2-10c7d98db1fd",
     "prev": "23c96bc3-a828-4777-871c-6d0a991e1c45",
     "regions": {
      "d02ff7a6-76e8-4783-88af-06d4b0bcb21f": {
       "attrs": {
        "height": 0.8,
        "width": 0.8,
        "x": 0.1,
        "y": 0.1
       },
       "content": {
        "cell": "e7484ffc-4770-4bad-af58-23a2206602b6",
        "part": "whole"
       },
       "id": "d02ff7a6-76e8-4783-88af-06d4b0bcb21f"
      }
     }
    },
    "3bb3eff1-8081-4347-b490-14da7e168882": {
     "id": "3bb3eff1-8081-4347-b490-14da7e168882",
     "prev": "414bfd9a-aa9a-4705-a8dc-f2f503a79dc6",
     "regions": {
      "8db3e0df-5ff0-405b-a614-a9ace8546719": {
       "attrs": {
        "height": 0.8,
        "width": 0.8,
        "x": 0.1,
        "y": 0.1
       },
       "content": {
        "cell": "e9923300-1d60-4b9a-98f5-441363bc8216",
        "part": "whole"
       },
       "id": "8db3e0df-5ff0-405b-a614-a9ace8546719"
      }
     }
    },
    "414bfd9a-aa9a-4705-a8dc-f2f503a79dc6": {
     "id": "414bfd9a-aa9a-4705-a8dc-f2f503a79dc6",
     "prev": null,
     "regions": {
      "d1258b1b-90d9-45db-b7de-4d28d1fe27ef": {
       "attrs": {
        "height": 0.8,
        "width": 0.8,
        "x": 0.1,
        "y": 0.1
       },
       "content": {
        "cell": "9363186e-7292-46fa-b9b9-ab7233a0d2ee",
        "part": "whole"
       },
       "id": "d1258b1b-90d9-45db-b7de-4d28d1fe27ef"
      }
     }
    },
    "571e27ed-a38d-49f5-8850-21e1c2469dbe": {
     "id": "571e27ed-a38d-49f5-8850-21e1c2469dbe",
     "prev": "6bbe74ca-4eab-44a3-8fe7-a314641d12db",
     "regions": {
      "798b35a9-f171-4987-9080-a56d38b825a9": {
       "attrs": {
        "height": 0.8,
        "width": 0.8,
        "x": 0.1,
        "y": 0.1
       },
       "content": {
        "cell": "88ebb92f-326a-4e88-9e16-5c9bf3bc2d39",
        "part": "whole"
       },
       "id": "798b35a9-f171-4987-9080-a56d38b825a9"
      }
     }
    },
    "60f50e5c-e8a7-48df-8482-6067a05f5935": {
     "id": "60f50e5c-e8a7-48df-8482-6067a05f5935",
     "prev": "c88353ff-39b6-496f-9919-9bdd0e8f280f",
     "regions": {
      "c81f12bb-b382-46cc-bfbe-338f7f69c410": {
       "attrs": {
        "height": 0.8,
        "width": 0.8,
        "x": 0.1,
        "y": 0.1
       },
       "content": {
        "cell": "a832bf6f-1524-4f84-ab5e-e53b68cab9d1",
        "part": "whole"
       },
       "id": "c81f12bb-b382-46cc-bfbe-338f7f69c410"
      }
     }
    },
    "6b51198c-e50e-473a-b932-a0457a130061": {
     "id": "6b51198c-e50e-473a-b932-a0457a130061",
     "prev": "7d5ab888-dd42-448b-a5f1-656a818c36f5",
     "regions": {
      "3490ebd0-9501-4590-a103-8664be2fa8fa": {
       "attrs": {
        "height": 0.8,
        "width": 0.8,
        "x": 0.1,
        "y": 0.1
       },
       "content": {
        "cell": "88ebb92f-326a-4e88-9e16-5c9bf3bc2d39",
        "part": "whole"
       },
       "id": "3490ebd0-9501-4590-a103-8664be2fa8fa"
      }
     }
    },
    "6bbe74ca-4eab-44a3-8fe7-a314641d12db": {
     "id": "6bbe74ca-4eab-44a3-8fe7-a314641d12db",
     "prev": "37c6c2df-049f-4b8f-92a2-10c7d98db1fd",
     "regions": {
      "390541cd-755d-40b6-8f51-da6835c80a32": {
       "attrs": {
        "height": 0.8,
        "width": 0.8,
        "x": 0.1,
        "y": 0.1
       },
       "content": {
        "cell": "f1459bcd-1fac-4d48-99e8-c92973cf78bf",
        "part": "whole"
       },
       "id": "390541cd-755d-40b6-8f51-da6835c80a32"
      }
     }
    },
    "7d5ab888-dd42-448b-a5f1-656a818c36f5": {
     "id": "7d5ab888-dd42-448b-a5f1-656a818c36f5",
     "prev": "bd9ad0ca-5bb0-49bb-8989-54106a549964",
     "regions": {
      "4954b36d-d76b-4168-b8a4-3a049fe23ad1": {
       "attrs": {
        "height": 0.8,
        "width": 0.8,
        "x": 0.1,
        "y": 0.1
       },
       "content": {
        "cell": "f1459bcd-1fac-4d48-99e8-c92973cf78bf",
        "part": "whole"
       },
       "id": "4954b36d-d76b-4168-b8a4-3a049fe23ad1"
      }
     }
    },
    "86cb0672-54cb-4470-be7d-318b947e48d2": {
     "id": "86cb0672-54cb-4470-be7d-318b947e48d2",
     "prev": "a107cbbe-7e5f-4233-993a-3136269c78aa",
     "regions": {
      "09ad547b-3eb6-4c00-87bd-13c19e30ced7": {
       "attrs": {
        "height": 0.8,
        "width": 0.8,
        "x": 0.1,
        "y": 0.1
       },
       "content": {
        "cell": "2600177b-24b4-429e-96fb-b173c84aaa6d",
        "part": "whole"
       },
       "id": "09ad547b-3eb6-4c00-87bd-13c19e30ced7"
      }
     }
    },
    "88f4b6ec-121a-4810-a6b3-c8773635398f": {
     "id": "88f4b6ec-121a-4810-a6b3-c8773635398f",
     "prev": "d2c0e02b-bba3-471c-b12d-7dab65a89d90",
     "regions": {
      "785a331e-999e-4428-a097-86e70fc4ef4c": {
       "attrs": {
        "height": 0.8,
        "width": 0.8,
        "x": 0.1,
        "y": 0.1
       },
       "content": {
        "cell": "dfa52bce-5f45-4cd7-97b1-6a9f335a846a",
        "part": "whole"
       },
       "id": "785a331e-999e-4428-a097-86e70fc4ef4c"
      }
     }
    },
    "a107cbbe-7e5f-4233-993a-3136269c78aa": {
     "id": "a107cbbe-7e5f-4233-993a-3136269c78aa",
     "prev": "571e27ed-a38d-49f5-8850-21e1c2469dbe",
     "regions": {
      "93b56c2e-6db9-49af-b933-ef8e11872ef0": {
       "attrs": {
        "height": 0.8,
        "width": 0.8,
        "x": 0.1,
        "y": 0.1
       },
       "content": {
        "cell": "b6c95724-8651-4e73-bddb-ea78264de730",
        "part": "whole"
       },
       "id": "93b56c2e-6db9-49af-b933-ef8e11872ef0"
      }
     }
    },
    "bd9ad0ca-5bb0-49bb-8989-54106a549964": {
     "id": "bd9ad0ca-5bb0-49bb-8989-54106a549964",
     "prev": "0863736b-15d4-487e-a2b7-2512d4b9f82c",
     "regions": {
      "cf64a6c7-c852-4587-8ec5-ff335d19576a": {
       "attrs": {
        "height": 0.8,
        "width": 0.8,
        "x": 0.1,
        "y": 0.1
       },
       "content": {
        "cell": "e7484ffc-4770-4bad-af58-23a2206602b6",
        "part": "whole"
       },
       "id": "cf64a6c7-c852-4587-8ec5-ff335d19576a"
      }
     }
    },
    "c04783f0-1718-431c-9a8c-66d001281e5d": {
     "id": "c04783f0-1718-431c-9a8c-66d001281e5d",
     "prev": "cf80b4fa-056e-4516-a3e4-8befed2ecf56",
     "regions": {
      "df9fda1c-3b4e-46b5-9be6-0c2d2d04b89e": {
       "attrs": {
        "height": 0.8,
        "width": 0.8,
        "x": 0.1,
        "y": 0.1
       },
       "content": {
        "cell": "7a19668d-5e0e-4838-bac7-4e42dd017c46",
        "part": "whole"
       },
       "id": "df9fda1c-3b4e-46b5-9be6-0c2d2d04b89e"
      }
     }
    },
    "c88353ff-39b6-496f-9919-9bdd0e8f280f": {
     "id": "c88353ff-39b6-496f-9919-9bdd0e8f280f",
     "prev": "86cb0672-54cb-4470-be7d-318b947e48d2",
     "regions": {
      "ceb550c6-7a3a-4163-a295-1e345f968d74": {
       "attrs": {
        "height": 0.8,
        "width": 0.8,
        "x": 0.1,
        "y": 0.1
       },
       "content": {
        "cell": "4f3d587f-41e3-4bc6-a751-20b002d6529a",
        "part": "whole"
       },
       "id": "ceb550c6-7a3a-4163-a295-1e345f968d74"
      }
     }
    },
    "cf01f1e4-0d21-4780-b769-69356c4026c8": {
     "id": "cf01f1e4-0d21-4780-b769-69356c4026c8",
     "prev": "60f50e5c-e8a7-48df-8482-6067a05f5935",
     "regions": {
      "26b8e775-3bf2-4f72-8cfc-56f956606d95": {
       "attrs": {
        "height": 0.8,
        "width": 0.8,
        "x": 0.1,
        "y": 0.1
       },
       "content": {
        "cell": "7a19668d-5e0e-4838-bac7-4e42dd017c46",
        "part": "whole"
       },
       "id": "26b8e775-3bf2-4f72-8cfc-56f956606d95"
      }
     }
    },
    "cf0e8db1-d407-49d9-a857-7738f957a9a9": {
     "id": "cf0e8db1-d407-49d9-a857-7738f957a9a9",
     "prev": "d9b3bb7a-72f8-4370-9c67-50002f71f6c3",
     "regions": {
      "47c4e162-761b-4a97-b42e-10757a354aed": {
       "attrs": {
        "height": 0.8,
        "width": 0.8,
        "x": 0.1,
        "y": 0.1
       },
       "content": {
        "cell": "2600177b-24b4-429e-96fb-b173c84aaa6d",
        "part": "whole"
       },
       "id": "47c4e162-761b-4a97-b42e-10757a354aed"
      }
     }
    },
    "cf80b4fa-056e-4516-a3e4-8befed2ecf56": {
     "id": "cf80b4fa-056e-4516-a3e4-8befed2ecf56",
     "prev": "2042f4ce-8198-4be0-be71-4a4308641ba3",
     "regions": {
      "8176f27d-d6d6-4c79-accf-b6fc31dacb56": {
       "attrs": {
        "height": 0.8,
        "width": 0.8,
        "x": 0.1,
        "y": 0.1
       },
       "content": {
        "cell": "a832bf6f-1524-4f84-ab5e-e53b68cab9d1",
        "part": "whole"
       },
       "id": "8176f27d-d6d6-4c79-accf-b6fc31dacb56"
      }
     }
    },
    "d2c0e02b-bba3-471c-b12d-7dab65a89d90": {
     "id": "d2c0e02b-bba3-471c-b12d-7dab65a89d90",
     "prev": "023a064c-30fe-487e-a964-49193a36edc5",
     "regions": {
      "31aef8b8-6889-4c0e-9971-1f8c822fd133": {
       "attrs": {
        "height": 0.8,
        "width": 0.8,
        "x": 0.1,
        "y": 0.1
       },
       "content": {
        "cell": "e9923300-1d60-4b9a-98f5-441363bc8216",
        "part": "whole"
       },
       "id": "31aef8b8-6889-4c0e-9971-1f8c822fd133"
      }
     }
    },
    "d9b3bb7a-72f8-4370-9c67-50002f71f6c3": {
     "id": "d9b3bb7a-72f8-4370-9c67-50002f71f6c3",
     "prev": "6b51198c-e50e-473a-b932-a0457a130061",
     "regions": {
      "97ae3cd1-a726-467b-a3ff-b3a844be8a65": {
       "attrs": {
        "height": 0.8,
        "width": 0.8,
        "x": 0.1,
        "y": 0.1
       },
       "content": {
        "cell": "b6c95724-8651-4e73-bddb-ea78264de730",
        "part": "whole"
       },
       "id": "97ae3cd1-a726-467b-a3ff-b3a844be8a65"
      }
     }
    }
   },
   "themes": {}
  }
 },
 "nbformat": 4,
 "nbformat_minor": 1
}
